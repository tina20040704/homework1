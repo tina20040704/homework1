{
  "nbformat": 4,
  "nbformat_minor": 0,
  "metadata": {
    "colab": {
      "provenance": [],
      "authorship_tag": "ABX9TyPL2W2yhLhaZei9ZuaDDGLZ",
      "include_colab_link": true
    },
    "kernelspec": {
      "name": "python3",
      "display_name": "Python 3"
    },
    "language_info": {
      "name": "python"
    }
  },
  "cells": [
    {
      "cell_type": "markdown",
      "metadata": {
        "id": "view-in-github",
        "colab_type": "text"
      },
      "source": [
        "<a href=\"https://colab.research.google.com/github/tina20040704/homework1/blob/main/%E6%9C%9F%E6%9C%AB%E8%80%83%E5%AF%A6%E5%81%9A%E9%A1%8C.ipynb\" target=\"_parent\"><img src=\"https://colab.research.google.com/assets/colab-badge.svg\" alt=\"Open In Colab\"/></a>"
      ]
    },
    {
      "cell_type": "code",
      "execution_count": 2,
      "metadata": {
        "colab": {
          "base_uri": "https://localhost:8080/"
        },
        "id": "YiMGIPr95_9F",
        "outputId": "602da5af-c3d8-4387-f0c2-1ed6a263688e"
      },
      "outputs": [
        {
          "output_type": "stream",
          "name": "stdout",
          "text": [
            "遊覽順序： A->E->D->F->B->C->G\n",
            "總旅費： 9791.89079839502\n"
          ]
        }
      ],
      "source": [
        "import math\n",
        "\n",
        "class City:\n",
        "    def __init__(self, name, coordinates, accommodation_cost):\n",
        "        self.name = name\n",
        "        self.coordinates = coordinates\n",
        "        self.accommodation_cost = accommodation_cost\n",
        "\n",
        "def calculate_discounted_cost(previous_city, current_city):\n",
        "    if previous_city is None or previous_city.name in ['C', 'G']:\n",
        "        return current_city.accommodation_cost\n",
        "    else:\n",
        "        return current_city.accommodation_cost * 0.8\n",
        "\n",
        "def calculate_distance(city1, city2):\n",
        "    x1, y1 = city1.coordinates\n",
        "    x2, y2 = city2.coordinates\n",
        "    return math.sqrt((x2 - x1) ** 2 + (y2 - y1) ** 2)\n",
        "\n",
        "def find_cheapest_route(cities, current_city, visited_cities, total_cost):\n",
        "    if len(visited_cities) == len(cities):\n",
        "        return visited_cities, total_cost\n",
        "\n",
        "    min_cost = float('inf')\n",
        "    best_route = None\n",
        "\n",
        "    for city in cities:\n",
        "        if city not in visited_cities:\n",
        "            distance = calculate_distance(current_city, city)\n",
        "            accommodation_cost = calculate_discounted_cost(current_city, city)\n",
        "            new_total_cost = total_cost + distance + accommodation_cost\n",
        "\n",
        "            new_visited_cities = visited_cities.copy()\n",
        "            new_visited_cities.append(city)\n",
        "\n",
        "            route, cost = find_cheapest_route(\n",
        "                cities, city, new_visited_cities, new_total_cost\n",
        "            )\n",
        "\n",
        "            if cost < min_cost:\n",
        "                min_cost = cost\n",
        "                best_route = route\n",
        "\n",
        "    return best_route, min_cost\n",
        "\n",
        "A = City('A', (0, 0), 2000)\n",
        "B = City('B', (0, 120), 2400)\n",
        "C = City('C', (30, 100), 2400)\n",
        "D = City('D', (80, 0), 1600)\n",
        "E = City('E', (45, 10), 1500)\n",
        "F = City('F', (90, 160), 2200)\n",
        "G = City('G', (120, 200), 1200)\n",
        "\n",
        "cities = [A, B, C, D, E, F, G]\n",
        "\n",
        "cheapest_route, cheapest_cost = find_cheapest_route(cities, A, [A], 0)\n",
        "\n",
        "print(\"遊覽順序：\", \"->\".join([city.name for city in cheapest_route]))\n",
        "print(\"總旅費：\", cheapest_cost)"
      ]
    }
  ]
}