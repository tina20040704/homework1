{
  "nbformat": 4,
  "nbformat_minor": 0,
  "metadata": {
    "colab": {
      "provenance": [],
      "authorship_tag": "ABX9TyPQ/Cx4LCnkgclrjR0GaA5Y",
      "include_colab_link": true
    },
    "kernelspec": {
      "name": "python3",
      "display_name": "Python 3"
    },
    "language_info": {
      "name": "python"
    }
  },
  "cells": [
    {
      "cell_type": "markdown",
      "metadata": {
        "id": "view-in-github",
        "colab_type": "text"
      },
      "source": [
        "<a href=\"https://colab.research.google.com/github/tina20040704/homework1/blob/main/homework2.ipynb\" target=\"_parent\"><img src=\"https://colab.research.google.com/assets/colab-badge.svg\" alt=\"Open In Colab\"/></a>"
      ]
    },
    {
      "cell_type": "code",
      "source": [
        "text='大道之行也， 天下為公。選 賢與能， 講信修睦。故人不獨親其親 ，不獨子其子；使 老有所終，壯有所用，幼有 所長，矜寡孤獨廢疾者，皆有所養；男有 分女有歸。貨惡其棄 於地也不必藏於己；力惡其不出 於身也不必為己。是故謀 閉而不興，盜竊 亂賊而不作，故外戶而 不閉，是謂「大同」。'\n",
        "b=text.replace(\" \",\"\")\n",
        "print(b)\n"
      ],
      "metadata": {
        "colab": {
          "base_uri": "https://localhost:8080/"
        },
        "id": "2OThWwiKdjJ1",
        "outputId": "3b697a01-fe06-4c7c-e4f3-61b92afd8e00"
      },
      "execution_count": 11,
      "outputs": [
        {
          "output_type": "stream",
          "name": "stdout",
          "text": [
            "大道之行也，天下為公。選賢與能，講信修睦。故人不獨親其親，不獨子其子；使老有所終，壯有所用，幼有所長，矜寡孤獨廢疾者，皆有所養；男有分女有歸。貨惡其棄於地也不必藏於己；力惡其不出於身也不必為己。是故謀閉而不興，盜竊亂賊而不作，故外戶而不閉，是謂「大同」。\n"
          ]
        }
      ]
    },
    {
      "cell_type": "code",
      "source": [
        "c=len(b)\n",
        "print(c)"
      ],
      "metadata": {
        "colab": {
          "base_uri": "https://localhost:8080/"
        },
        "id": "njrFb91sEros",
        "outputId": "48d0b0bf-1cbb-4b85-ddeb-c7c6ff8feb40"
      },
      "execution_count": 12,
      "outputs": [
        {
          "output_type": "stream",
          "name": "stdout",
          "text": [
            "127\n"
          ]
        }
      ]
    },
    {
      "cell_type": "code",
      "source": [
        "punctuations=[\"，\",\"。\",\"；\"]\n",
        "paragraphs = [b]\n",
        "\n",
        "for punctuation in punctuations:\n",
        "    new_paragraphs = []\n",
        "    \n",
        "    for paragraph in paragraphs:\n",
        "        sub_paragraphs = paragraph.split(punctuation)\n",
        "        new_paragraphs += sub_paragraphs\n",
        "    paragraphs = new_paragraphs\n",
        "    \n",
        "if paragraphs[-1] == '':\n",
        "    paragraphs.pop()\n",
        "\n",
        "for i, paragraph in enumerate(paragraphs):\n",
        "  print(format( paragraph))"
      ],
      "metadata": {
        "colab": {
          "base_uri": "https://localhost:8080/"
        },
        "id": "xvqAsA0whlnO",
        "outputId": "e42a1991-0e59-46e3-fafe-5b9070db862f"
      },
      "execution_count": 10,
      "outputs": [
        {
          "output_type": "stream",
          "name": "stdout",
          "text": [
            "大道之行也\n",
            "天下為公\n",
            "選賢與能\n",
            "講信修睦\n",
            "故人不獨親其親\n",
            "不獨子其子\n",
            "使老有所終\n",
            "壯有所用\n",
            "幼有所長\n",
            "矜寡孤獨廢疾者\n",
            "皆有所養\n",
            "男有分女有歸\n",
            "貨惡其棄於地也不必藏於己\n",
            "力惡其不出於身也不必為己\n",
            "是故謀閉而不興\n",
            "盜竊亂賊而不作\n",
            "故外戶而不閉\n",
            "是謂「大同」\n"
          ]
        }
      ]
    },
    {
      "cell_type": "code",
      "source": [
        "e=text.find(\"不\")\n",
        "print(e)"
      ],
      "metadata": {
        "colab": {
          "base_uri": "https://localhost:8080/"
        },
        "id": "hw04iklgCpai",
        "outputId": "393bdee2-72a6-4d7b-d357-d84618555fb6"
      },
      "execution_count": 13,
      "outputs": [
        {
          "output_type": "stream",
          "name": "stdout",
          "text": [
            "26\n"
          ]
        }
      ]
    }
  ]
}